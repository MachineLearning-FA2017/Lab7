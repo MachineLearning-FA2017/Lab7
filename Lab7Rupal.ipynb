{
 "cells": [
  {
   "cell_type": "code",
   "execution_count": 23,
   "metadata": {
    "collapsed": false
   },
   "outputs": [
    {
     "name": "stdout",
     "output_type": "stream",
     "text": [
      "The memory_profiler extension is already loaded. To reload it, use:\n",
      "  %reload_ext memory_profiler\n"
     ]
    }
   ],
   "source": [
    "import itertools\n",
    "import pandas as pd\n",
    "import numpy as np\n",
    "import matplotlib.pyplot as plt\n",
    "import warnings\n",
    "warnings.simplefilter('ignore', DeprecationWarning)\n",
    "%matplotlib inline \n",
    "%load_ext memory_profiler\n",
    "from sklearn.metrics import make_scorer\n",
    "from scipy.special import expit\n",
    "import time\n",
    "import math\n",
    "import random\n",
    "from memory_profiler import memory_usage\n",
    "from sklearn import metrics as mt\n",
    "from sklearn.neural_network import MLPClassifier\n",
    "from sklearn.model_selection import StratifiedKFold\n",
    "from sklearn.decomposition import PCA\n",
    "from sklearn.pipeline import Pipeline\n",
    "from sklearn.model_selection import GridSearchCV\n",
    "from sklearn.metrics import roc_curve, auc\n",
    "from scipy import interp\n",
    "\n",
    "target_classifier = 'PC'\n",
    "df = pd.read_csv('responses.csv', sep=\",\")"
   ]
  },
  {
   "cell_type": "code",
   "execution_count": 24,
   "metadata": {
    "collapsed": true
   },
   "outputs": [],
   "source": [
    "# remove rows whose target classfier value is NaN\n",
    "df_cleaned_classifier = df[np.isfinite(df[target_classifier])]\n",
    "# change NaN number values to the mean\n",
    "df_imputed = df_cleaned_classifier.fillna(df.mean())\n",
    "# get categorical features\n",
    "object_features = list(df_cleaned_classifier.select_dtypes(include=['object']).columns)\n",
    "\n",
    "df_imputed = df_imputed.dropna()"
   ]
  },
  {
   "cell_type": "code",
   "execution_count": 25,
   "metadata": {
    "collapsed": false
   },
   "outputs": [],
   "source": [
    "df = df_imputed[\n",
    "    [\"Music\",\"Dance\",\"Folk\",\"Country\",\"Classical music\",\"Musical\",\n",
    "    \"Pop\",\"Rock\",\"Metal or Hardrock\",\"Punk\",\"Hiphop, Rap\",\"Reggae, Ska\",\n",
    "    \"Swing, Jazz\",\"Rock n roll\",\"Alternative\",\"Latino\",\"Techno, Trance\",\n",
    "    \"Opera\",\"Movies\",\"Horror\",\"Thriller\",\"Comedy\",\"Romantic\",\"Sci-fi\",\"War\",\n",
    "    \"Fantasy/Fairy tales\",\"Animated\",\"Documentary\",\"Western\",\"Action\",\"History\",\n",
    "    \"Psychology\",\"Politics\",\"Mathematics\",\"Physics\",\"Internet\",\"PC\",\"Economy Management\",\n",
    "    \"Biology\",\"Chemistry\",\"Reading\",\"Geography\",\"Foreign languages\",\"Medicine\",\"Law\",\n",
    "    \"Cars\",\"Art exhibitions\",\"Religion\",\"Countryside, outdoors\",\"Dancing\",\n",
    "    \"Musical instruments\",\"Writing\",\"Passive sport\",\"Active sport\",\"Gardening\",\"Celebrities\",\n",
    "    \"Shopping\",\"Science and technology\",\"Theatre\",\"Fun with friends\",\"Adrenaline sports\",\n",
    "    \"Pets\",\"Healthy eating\",\"Spending on gadgets\",\"Age\",\"Height\",\"Weight\",\n",
    "    \"Number of siblings\",\"Gender\",\"Left - right handed\",\"Education\",\"Village - town\",\"House - block of flats\"\n",
    "]]"
   ]
  },
  {
   "cell_type": "code",
   "execution_count": 28,
   "metadata": {
    "collapsed": false
   },
   "outputs": [
    {
     "name": "stderr",
     "output_type": "stream",
     "text": [
      "/Users/rupalsanghavi/anaconda3/lib/python3.5/site-packages/ipykernel/__main__.py:8: SettingWithCopyWarning: \n",
      "A value is trying to be set on a copy of a slice from a DataFrame.\n",
      "Try using .loc[row_indexer,col_indexer] = value instead\n",
      "\n",
      "See the caveats in the documentation: http://pandas.pydata.org/pandas-docs/stable/indexing.html#indexing-view-versus-copy\n",
      "/Users/rupalsanghavi/anaconda3/lib/python3.5/site-packages/ipykernel/__main__.py:14: SettingWithCopyWarning: \n",
      "A value is trying to be set on a copy of a slice from a DataFrame.\n",
      "Try using .loc[row_indexer,col_indexer] = value instead\n",
      "\n",
      "See the caveats in the documentation: http://pandas.pydata.org/pandas-docs/stable/indexing.html#indexing-view-versus-copy\n",
      "/Users/rupalsanghavi/anaconda3/lib/python3.5/site-packages/ipykernel/__main__.py:19: SettingWithCopyWarning: \n",
      "A value is trying to be set on a copy of a slice from a DataFrame.\n",
      "Try using .loc[row_indexer,col_indexer] = value instead\n",
      "\n",
      "See the caveats in the documentation: http://pandas.pydata.org/pandas-docs/stable/indexing.html#indexing-view-versus-copy\n",
      "/Users/rupalsanghavi/anaconda3/lib/python3.5/site-packages/ipykernel/__main__.py:21: SettingWithCopyWarning: \n",
      "A value is trying to be set on a copy of a slice from a DataFrame.\n",
      "Try using .loc[row_indexer,col_indexer] = value instead\n",
      "\n",
      "See the caveats in the documentation: http://pandas.pydata.org/pandas-docs/stable/indexing.html#indexing-view-versus-copy\n"
     ]
    }
   ],
   "source": [
    "from sklearn.preprocessing import LabelEncoder\n",
    "from sklearn.preprocessing import StandardScaler\n",
    "\n",
    "encoders = dict() \n",
    "categorical_headers = ['Gender']\n",
    "\n",
    "for col in categorical_headers:\n",
    "    df[col] = df[col].str.strip()    \n",
    "    if col==\"Spending on gadgets\":\n",
    "        tmp = LabelEncoder()\n",
    "        df[col] = tmp.fit_transform(df[col])\n",
    "    else:\n",
    "        encoders[col] = LabelEncoder()\n",
    "        df[col+'_int'] = encoders[col].fit_transform(df[col])\n",
    "\n",
    "numeric_headers = [\"Music\",\"Dance\"]\n",
    "\n",
    "for col in numeric_headers:\n",
    "    df[col] = df[col].astype(np.float)    \n",
    "    ss = StandardScaler()\n",
    "    df[col] = ss.fit_transform(df[col].values.reshape(-1, 1))"
   ]
  },
  {
   "cell_type": "code",
   "execution_count": 27,
   "metadata": {
    "collapsed": false
   },
   "outputs": [
    {
     "name": "stdout",
     "output_type": "stream",
     "text": [
      "<class 'pandas.core.frame.DataFrame'>\n",
      "Int64Index: 971 entries, 0 to 1009\n",
      "Data columns (total 74 columns):\n",
      "Music                     971 non-null float64\n",
      "Dance                     971 non-null float64\n",
      "Folk                      971 non-null float64\n",
      "Country                   971 non-null float64\n",
      "Classical music           971 non-null float64\n",
      "Musical                   971 non-null float64\n",
      "Pop                       971 non-null float64\n",
      "Rock                      971 non-null float64\n",
      "Metal or Hardrock         971 non-null float64\n",
      "Punk                      971 non-null float64\n",
      "Hiphop, Rap               971 non-null float64\n",
      "Reggae, Ska               971 non-null float64\n",
      "Swing, Jazz               971 non-null float64\n",
      "Rock n roll               971 non-null float64\n",
      "Alternative               971 non-null float64\n",
      "Latino                    971 non-null float64\n",
      "Techno, Trance            971 non-null float64\n",
      "Opera                     971 non-null float64\n",
      "Movies                    971 non-null float64\n",
      "Horror                    971 non-null float64\n",
      "Thriller                  971 non-null float64\n",
      "Comedy                    971 non-null float64\n",
      "Romantic                  971 non-null float64\n",
      "Sci-fi                    971 non-null float64\n",
      "War                       971 non-null float64\n",
      "Fantasy/Fairy tales       971 non-null float64\n",
      "Animated                  971 non-null float64\n",
      "Documentary               971 non-null float64\n",
      "Western                   971 non-null float64\n",
      "Action                    971 non-null float64\n",
      "History                   971 non-null float64\n",
      "Psychology                971 non-null float64\n",
      "Politics                  971 non-null float64\n",
      "Mathematics               971 non-null float64\n",
      "Physics                   971 non-null float64\n",
      "Internet                  971 non-null float64\n",
      "PC                        971 non-null float64\n",
      "Economy Management        971 non-null float64\n",
      "Biology                   971 non-null float64\n",
      "Chemistry                 971 non-null float64\n",
      "Reading                   971 non-null float64\n",
      "Geography                 971 non-null float64\n",
      "Foreign languages         971 non-null float64\n",
      "Medicine                  971 non-null float64\n",
      "Law                       971 non-null float64\n",
      "Cars                      971 non-null float64\n",
      "Art exhibitions           971 non-null float64\n",
      "Religion                  971 non-null float64\n",
      "Countryside, outdoors     971 non-null float64\n",
      "Dancing                   971 non-null float64\n",
      "Musical instruments       971 non-null float64\n",
      "Writing                   971 non-null float64\n",
      "Passive sport             971 non-null float64\n",
      "Active sport              971 non-null float64\n",
      "Gardening                 971 non-null float64\n",
      "Celebrities               971 non-null float64\n",
      "Shopping                  971 non-null float64\n",
      "Science and technology    971 non-null float64\n",
      "Theatre                   971 non-null float64\n",
      "Fun with friends          971 non-null float64\n",
      "Adrenaline sports         971 non-null float64\n",
      "Pets                      971 non-null float64\n",
      "Healthy eating            971 non-null float64\n",
      "Spending on gadgets       971 non-null int64\n",
      "Age                       971 non-null float64\n",
      "Height                    971 non-null float64\n",
      "Weight                    971 non-null float64\n",
      "Number of siblings        971 non-null float64\n",
      "Gender                    971 non-null object\n",
      "Left - right handed       971 non-null object\n",
      "Education                 971 non-null object\n",
      "Village - town            971 non-null object\n",
      "House - block of flats    971 non-null object\n",
      "Gender_int                971 non-null int64\n",
      "dtypes: float64(67), int64(2), object(5)\n",
      "memory usage: 568.9+ KB\n"
     ]
    }
   ],
   "source": [
    "df.info()"
   ]
  },
  {
   "cell_type": "code",
   "execution_count": null,
   "metadata": {
    "collapsed": true
   },
   "outputs": [],
   "source": [
    "\"Smoking\",\"Alcohol\""
   ]
  }
 ],
 "metadata": {
  "anaconda-cloud": {},
  "kernelspec": {
   "display_name": "Python [conda root]",
   "language": "python",
   "name": "conda-root-py"
  },
  "language_info": {
   "codemirror_mode": {
    "name": "ipython",
    "version": 3
   },
   "file_extension": ".py",
   "mimetype": "text/x-python",
   "name": "python",
   "nbconvert_exporter": "python",
   "pygments_lexer": "ipython3",
   "version": "3.5.2"
  }
 },
 "nbformat": 4,
 "nbformat_minor": 1
}
